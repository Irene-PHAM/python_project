{
 "cells": [
  {
   "cell_type": "code",
   "execution_count": 11,
   "id": "26035d7e",
   "metadata": {},
   "outputs": [],
   "source": [
    "from grad_cam import GradCamSingle, device, load_model\n",
    "import gradio as gr"
   ]
  },
  {
   "cell_type": "code",
   "execution_count": 2,
   "id": "c9baad7b",
   "metadata": {},
   "outputs": [],
   "source": [
    "path = 'vgg_19_fine_tune_whole_moire_classifier.pt'\n",
    "model = load_model(path, device)"
   ]
  },
  {
   "cell_type": "code",
   "execution_count": 24,
   "id": "fe94378d",
   "metadata": {},
   "outputs": [],
   "source": [
    "def get_layered_image(img):\n",
    "    layer_image= GradCamSingle(model,img)\n",
    "    img = layer_image.overlay_on_image()\n",
    "    return img"
   ]
  },
  {
   "cell_type": "code",
   "execution_count": null,
   "id": "d6f90b03",
   "metadata": {},
   "outputs": [],
   "source": [
    "demo = gr.Interface(get_layered_image, gr.Image(type=\"filepath\"),\"image\")\n",
    "\n",
    "demo.launch(share=True) "
   ]
  }
 ],
 "metadata": {
  "kernelspec": {
   "display_name": "Python 3 (ipykernel)",
   "language": "python",
   "name": "python3"
  },
  "language_info": {
   "codemirror_mode": {
    "name": "ipython",
    "version": 3
   },
   "file_extension": ".py",
   "mimetype": "text/x-python",
   "name": "python",
   "nbconvert_exporter": "python",
   "pygments_lexer": "ipython3",
   "version": "3.8.0"
  }
 },
 "nbformat": 4,
 "nbformat_minor": 5
}
