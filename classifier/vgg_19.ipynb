{
 "cells": [
  {
   "cell_type": "code",
   "execution_count": 1,
   "metadata": {
    "gather": {
     "logged": 1663591248504
    }
   },
   "outputs": [],
   "source": [
    "# import \n",
    "from __future__ import print_function, division\n",
    "import torch\n",
    "import torch.nn as nn\n",
    "import torch.optim as optim\n",
    "from torch.optim import lr_scheduler\n",
    "import torch.backends.cudnn as cudnn\n",
    "from torchvision import datasets, models, transforms\n",
    "from utils import train, test, get_classification_report\n",
    "import os\n",
    "\n",
    "cudnn.benchmark = True\n",
    "plt.ion()   # interactive mode"
   ]
  },
  {
   "cell_type": "code",
   "execution_count": 2,
   "metadata": {
    "gather": {
     "logged": 1663591250334
    },
    "jupyter": {
     "outputs_hidden": false,
     "source_hidden": false
    },
    "nteract": {
     "transient": {
      "deleting": false
     }
    }
   },
   "outputs": [
    {
     "name": "stdout",
     "output_type": "stream",
     "text": [
      "Loaded 7268 images under train\n",
      "Loaded 704 images under val\n",
      "Loaded 665 images under test\n",
      "Classes: \n",
      "['0', '1']\n",
      "['0', '1']\n",
      "['0', '1']\n"
     ]
    }
   ],
   "source": [
    "# data directory named 'moire'\n",
    "data_dir = 'moire'\n",
    "TRAIN = 'train'\n",
    "VAL = 'val'\n",
    "TEST = 'test'\n",
    "\n",
    "# create transform pipeline. This transformation will be applied on input image\n",
    "# for data in train folder, RandomHorizontalFlip is added on top of resizing images to size 224 and then transform it into Tensor.\n",
    "data_transforms = {\n",
    "    TRAIN: transforms.Compose([\n",
    "        transforms.Resize((224, 224)),\n",
    "        transforms.RandomHorizontalFlip(),\n",
    "        transforms.ToTensor(),\n",
    "    ]),\n",
    "    VAL: transforms.Compose([\n",
    "        transforms.Resize((224, 224)),\n",
    "        transforms.ToTensor(),\n",
    "    ]),\n",
    "    TEST: transforms.Compose([\n",
    "        transforms.Resize((224, 224)),\n",
    "        transforms.ToTensor(),\n",
    "    ])\n",
    "}\n",
    "# create dataset dictionary object\n",
    "image_datasets = {\n",
    "    x: datasets.ImageFolder(\n",
    "        os.path.join(data_dir, x), \n",
    "        transform=data_transforms[x]\n",
    "    )\n",
    "    for x in [TRAIN, VAL, TEST]\n",
    "}\n",
    "# create dataloaders object that shuffles the folders and creates batch of 32 images \n",
    "dataloaders = {\n",
    "    x: torch.utils.data.DataLoader(\n",
    "        image_datasets[x], batch_size=32,\n",
    "        shuffle=True, num_workers=4\n",
    "    )\n",
    "    for x in [TRAIN, VAL, TEST]\n",
    "}\n",
    "\n",
    "dataset_sizes = {x: len(image_datasets[x]) for x in [TRAIN, VAL, TEST]}\n",
    "\n",
    "for x in [TRAIN, VAL, TEST]:\n",
    "    print(\"Loaded {} images under {}\".format(dataset_sizes[x], x))\n",
    "    \n",
    "print(\"Classes: \")\n",
    "class_names = image_datasets[TRAIN].classes\n",
    "print(image_datasets[TRAIN].classes)\n",
    "print(image_datasets[VAL].classes)\n",
    "print(image_datasets[TEST].classes)\n",
    "\n",
    "device = torch.device(\"cuda:0\" if torch.cuda.is_available() else \"cpu\")"
   ]
  },
  {
   "cell_type": "code",
   "execution_count": 6,
   "metadata": {},
   "outputs": [],
   "source": [
    "## Load the model based on VGG19\n",
    "model = models.vgg19(pretrained=True)\n",
    "\n",
    "# Modify the last layer having input size of number_features and output size of 2 (as we classify only 2 classes)\n",
    "number_features = model.classifier[6].in_features\n",
    "features = list(model.classifier.children())[:-1] # Remove last layer\n",
    "features.extend([torch.nn.Linear(number_features, len(class_names))])\n",
    "model.classifier = torch.nn.Sequential(*features)\n",
    "model = model.to(device)"
   ]
  },
  {
   "cell_type": "code",
   "execution_count": 7,
   "metadata": {},
   "outputs": [],
   "source": [
    "# Create criterion \n",
    "criterion = nn.CrossEntropyLoss()\n",
    "\n",
    "# Create optimizer\n",
    "optimizer = optim.SGD(model.parameters(), lr=0.001, momentum=0.9)\n",
    "\n",
    "# Decay LR by a factor of 0.1 every 7 epochs\n",
    "exp_lr_scheduler = lr_scheduler.StepLR(optimizer, step_size=7, gamma=0.1)"
   ]
  },
  {
   "cell_type": "code",
   "execution_count": 8,
   "metadata": {
    "collapsed": true,
    "gather": {
     "logged": 1663580321188
    },
    "jupyter": {
     "outputs_hidden": false,
     "source_hidden": false
    },
    "nteract": {
     "transient": {
      "deleting": false
     }
    }
   },
   "outputs": [
    {
     "name": "stdout",
     "output_type": "stream",
     "text": [
      "Epoch 0/24\n",
      "----------\n",
      "train Loss: 0.2877 Acc: 0.8690\n",
      "val Loss: 0.1485 Acc: 0.9446\n",
      "\n",
      "Epoch 1/24\n",
      "----------\n",
      "train Loss: 0.1678 Acc: 0.9305\n",
      "val Loss: 0.2847 Acc: 0.9077\n",
      "\n",
      "Epoch 2/24\n",
      "----------\n",
      "train Loss: 0.1253 Acc: 0.9468\n",
      "val Loss: 0.1096 Acc: 0.9716\n",
      "\n",
      "Epoch 3/24\n",
      "----------\n",
      "train Loss: 0.1407 Acc: 0.9345\n",
      "val Loss: 0.0915 Acc: 0.9474\n",
      "\n",
      "Epoch 4/24\n",
      "----------\n",
      "train Loss: 0.0572 Acc: 0.9809\n",
      "val Loss: 0.0509 Acc: 0.9872\n",
      "\n",
      "Epoch 5/24\n",
      "----------\n",
      "train Loss: 0.0513 Acc: 0.9816\n",
      "val Loss: 0.0302 Acc: 0.9901\n",
      "\n",
      "Epoch 6/24\n",
      "----------\n",
      "train Loss: 0.0594 Acc: 0.9789\n",
      "val Loss: 0.0271 Acc: 0.9915\n",
      "\n",
      "Epoch 7/24\n",
      "----------\n",
      "train Loss: 0.0119 Acc: 0.9974\n",
      "val Loss: 0.0103 Acc: 0.9957\n",
      "\n",
      "Epoch 8/24\n",
      "----------\n",
      "train Loss: 0.0078 Acc: 0.9982\n",
      "val Loss: 0.0114 Acc: 0.9957\n",
      "\n",
      "Epoch 9/24\n",
      "----------\n",
      "train Loss: 0.0054 Acc: 0.9988\n",
      "val Loss: 0.0091 Acc: 0.9957\n",
      "\n",
      "Epoch 10/24\n",
      "----------\n",
      "train Loss: 0.0042 Acc: 0.9996\n",
      "val Loss: 0.0118 Acc: 0.9957\n",
      "\n",
      "Epoch 11/24\n",
      "----------\n",
      "train Loss: 0.0035 Acc: 0.9994\n",
      "val Loss: 0.0069 Acc: 0.9957\n",
      "\n",
      "Epoch 12/24\n",
      "----------\n",
      "train Loss: 0.0030 Acc: 0.9993\n",
      "val Loss: 0.0074 Acc: 0.9957\n",
      "\n",
      "Epoch 13/24\n",
      "----------\n",
      "train Loss: 0.0022 Acc: 0.9996\n",
      "val Loss: 0.0087 Acc: 0.9957\n",
      "\n",
      "Epoch 14/24\n",
      "----------\n",
      "train Loss: 0.0024 Acc: 0.9996\n",
      "val Loss: 0.0068 Acc: 0.9957\n",
      "\n",
      "Epoch 15/24\n",
      "----------\n",
      "train Loss: 0.0021 Acc: 0.9994\n",
      "val Loss: 0.0061 Acc: 0.9957\n",
      "\n",
      "Epoch 16/24\n",
      "----------\n",
      "train Loss: 0.0017 Acc: 0.9999\n",
      "val Loss: 0.0055 Acc: 0.9957\n",
      "\n",
      "Epoch 17/24\n",
      "----------\n",
      "val Loss: 0.0052 Acc: 0.9957\n",
      "\n",
      "Epoch 18/24\n",
      "----------\n",
      "train Loss: 0.0016 Acc: 0.9999\n",
      "val Loss: 0.0052 Acc: 0.9957\n",
      "\n",
      "Epoch 19/24\n",
      "----------\n",
      "train Loss: 0.0022 Acc: 0.9997\n",
      "val Loss: 0.0044 Acc: 0.9972\n",
      "\n",
      "Epoch 20/24\n",
      "----------\n",
      "train Loss: 0.0021 Acc: 0.9997\n",
      "val Loss: 0.0045 Acc: 0.9972\n",
      "\n",
      "Epoch 21/24\n",
      "----------\n",
      "train Loss: 0.0016 Acc: 0.9999\n",
      "val Loss: 0.0045 Acc: 0.9972\n",
      "\n",
      "Epoch 22/24\n",
      "----------\n",
      "train Loss: 0.0013 Acc: 0.9999\n",
      "val Loss: 0.0045 Acc: 0.9972\n",
      "\n",
      "Epoch 23/24\n",
      "----------\n",
      "train Loss: 0.0018 Acc: 0.9997\n",
      "val Loss: 0.0045 Acc: 0.9972\n",
      "\n",
      "Epoch 24/24\n",
      "----------\n",
      "train Loss: 0.0019 Acc: 0.9996\n",
      "val Loss: 0.0045 Acc: 0.9972\n",
      "\n",
      "Training complete in 111m 30s\n",
      "Best val Acc: 0.997159\n"
     ]
    }
   ],
   "source": [
    "# Train model, starting with the learned parameters from the initial VGG-19 model\n",
    "model_trained = train(model,dataloaders, device, dataset_sizes,  criterion, optimizer, exp_lr_scheduler,\n",
    "                       num_epochs=25)"
   ]
  },
  {
   "cell_type": "code",
   "execution_count": 10,
   "metadata": {
    "gather": {
     "logged": 1663582364484
    },
    "jupyter": {
     "outputs_hidden": false,
     "source_hidden": false
    },
    "nteract": {
     "transient": {
      "deleting": false
     }
    }
   },
   "outputs": [],
   "source": [
    "# Save trained model\n",
    "torch.save(model_trained, 'vgg_19_fine_tune_whole_moire_classifier.pt')"
   ]
  },
  {
   "cell_type": "code",
   "execution_count": 3,
   "metadata": {
    "gather": {
     "logged": 1663591448165
    },
    "jupyter": {
     "outputs_hidden": false,
     "source_hidden": false
    },
    "nteract": {
     "transient": {
      "deleting": false
     }
    }
   },
   "outputs": [],
   "source": [
    "# Load train model\n",
    "model = torch.load('vgg_19_fine_tune_whole_moire_classifier.pt')"
   ]
  },
  {
   "cell_type": "code",
   "execution_count": 14,
   "metadata": {},
   "outputs": [
    {
     "data": {
      "text/plain": [
       "'              precision    recall  f1-score   support\\n\\n       moire       0.98      0.99      0.99       330\\n   non_moire       0.99      0.99      0.99       335\\n\\n    accuracy                           0.99       665\\n   macro avg       0.99      0.99      0.99       665\\nweighted avg       0.99      0.99      0.99       665\\n'"
      ]
     },
     "execution_count": 14,
     "metadata": {},
     "output_type": "execute_result"
    }
   ],
   "source": [
    "# Get classification report\n",
    "get_classification_report(model, dataloaders, device)"
   ]
  },
  {
   "cell_type": "code",
   "execution_count": 5,
   "metadata": {
    "jupyter": {
     "outputs_hidden": false,
     "source_hidden": false
    },
    "nteract": {
     "transient": {
      "deleting": false
     }
    }
   },
   "outputs": [
    {
     "name": "stdout",
     "output_type": "stream",
     "text": [
      "\n",
      "Test set: Accuracy: 656/665 (99%)\n",
      "\n"
     ]
    }
   ],
   "source": [
    "# Get accuracy\n",
    "test(model, dataloaders, device)"
   ]
  },
  {
   "cell_type": "code",
   "execution_count": null,
   "metadata": {},
   "outputs": [],
   "source": []
  }
 ],
 "metadata": {
  "kernel_info": {
   "name": "python38-azureml"
  },
  "kernelspec": {
   "display_name": "Python 3 (ipykernel)",
   "language": "python",
   "name": "python3"
  },
  "language_info": {
   "codemirror_mode": {
    "name": "ipython",
    "version": 3
   },
   "file_extension": ".py",
   "mimetype": "text/x-python",
   "name": "python",
   "nbconvert_exporter": "python",
   "pygments_lexer": "ipython3",
   "version": "3.8.0"
  },
  "microsoft": {
   "host": {
    "AzureML": {
     "notebookHasBeenCompleted": true
    }
   }
  },
  "nteract": {
   "version": "nteract-front-end@1.0.0"
  }
 },
 "nbformat": 4,
 "nbformat_minor": 2
}
